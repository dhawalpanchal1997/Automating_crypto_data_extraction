{
 "cells": [
  {
   "cell_type": "code",
   "execution_count": 1,
   "id": "8bba4712",
   "metadata": {},
   "outputs": [],
   "source": [
    "import requests\n",
    "import json\n",
    "import pandas as pd\n",
    "import os \n",
    "from time import time\n",
    "from time import sleep\n",
    "\n",
    "import seaborn as sns\n",
    "import matplotlib as mlt"
   ]
  },
  {
   "cell_type": "code",
   "execution_count": null,
   "id": "70cbe983",
   "metadata": {},
   "outputs": [],
   "source": [
    "url = \"https://api.coingecko.com/api/v3/coins/markets\"\n",
    "parameters = {\n",
    "    \"vs_currency\": \"usd\",\n",
    "    \"order\": \"market_cap_desc\",\n",
    "    \"per_page\": 15,\n",
    "    \"page\": 1,\n",
    "    \"sparkline\": \"false\"\n",
    "}\n",
    "\n",
    "try:\n",
    "    response = requests.get(url, params=parameters)\n",
    "    response.raise_for_status()  # Raise an error for bad responses (4xx, 5xx)\n",
    "    data = response.json()\n",
    "    \n",
    "    # Print formatted JSON response\n",
    "    print(json.dumps(data, indent=4))\n",
    "except requests.exceptions.RequestException as e:\n",
    "    print(f\"Error fetching data: {e}\")"
   ]
  },
  {
   "cell_type": "code",
   "execution_count": null,
   "id": "fd6c411e",
   "metadata": {},
   "outputs": [],
   "source": [
    "df = pd.DataFrame(data)"
   ]
  },
  {
   "cell_type": "code",
   "execution_count": null,
   "id": "e08cb6e3",
   "metadata": {},
   "outputs": [],
   "source": [
    "# Add a timestamp column for when the data is stored\n",
    "df['timestamp'] = pd.to_datetime('now')\n"
   ]
  },
  {
   "cell_type": "code",
   "execution_count": null,
   "id": "31bdff98",
   "metadata": {},
   "outputs": [],
   "source": [
    "df.head()"
   ]
  },
  {
   "cell_type": "code",
   "execution_count": 13,
   "id": "3149da59",
   "metadata": {},
   "outputs": [],
   "source": [
    "def api_runner():\n",
    "        global df\n",
    "        \n",
    "        url = \"https://api.coingecko.com/api/v3/coins/markets\"\n",
    "        parameters = {\n",
    "            \"vs_currency\": \"usd\",\n",
    "            \"order\": \"market_cap_desc\",\n",
    "            \"per_page\": 15,\n",
    "            \"page\": 1,\n",
    "            \"sparkline\": \"false\"\n",
    "        }\n",
    "\n",
    "        try:\n",
    "            response = requests.get(url, params=parameters)\n",
    "            response.raise_for_status()  # Raise an error for bad responses (4xx, 5xx)\n",
    "            data1 = response.json()\n",
    "            \n",
    "            # Print formatted JSON response\n",
    "            #print(json.dumps(data, indent=4))\n",
    "        except requests.exceptions.RequestException as e:\n",
    "            print(f\"Error fetching data: {e}\")\n",
    "        \n",
    "        df2 = pd.DataFrame(data1)\n",
    "        df2['timestamp'] = pd.to_datetime('now')\n",
    "        df = df.append(df2)\n",
    "\n",
    "        if not os.path.isfile(r'C:\\\\Users\\dhawa\\\\OneDrive\\Desktop\\\\project\\Automating Crypto web api pulling\\API.csv'):\n",
    "             df.to_csv(r'C:\\\\Users\\dhawa\\\\OneDrive\\Desktop\\\\project\\Automating Crypto web api pulling\\API.csv',header='columns_names')\n",
    "        else:\n",
    "             df.to_csv(r'C:\\\\Users\\dhawa\\\\OneDrive\\Desktop\\\\project\\Automating Crypto web api pulling\\API.csv',mode='a',header=False)"
   ]
  },
  {
   "cell_type": "code",
   "execution_count": null,
   "id": "b431619b",
   "metadata": {},
   "outputs": [],
   "source": [
    "for i in range(5):\n",
    "    api_runner()\n",
    "    print('Api runner completed sucessfully')\n",
    "    sleep(10)\n",
    "exit()    \n"
   ]
  },
  {
   "cell_type": "code",
   "execution_count": null,
   "id": "b06285a1",
   "metadata": {},
   "outputs": [],
   "source": [
    "pd.read_csv(r'C:\\\\Users\\dhawa\\\\OneDrive\\Desktop\\\\project\\Automating Crypto web api pulling\\API.csv')"
   ]
  },
  {
   "cell_type": "code",
   "execution_count": null,
   "id": "3e5ac16f",
   "metadata": {},
   "outputs": [],
   "source": [
    "pd.set_option('display.float_format',lambda x: '%.5f' % x)"
   ]
  },
  {
   "cell_type": "code",
   "execution_count": null,
   "id": "87db016d",
   "metadata": {},
   "outputs": [],
   "source": [
    "df.head()"
   ]
  },
  {
   "cell_type": "code",
   "execution_count": null,
   "id": "a685bc43",
   "metadata": {},
   "outputs": [],
   "source": [
    "df3 =df.groupby('name', sort = False)[['ath','high_24h','current_price','low_24h','atl']].mean()\n",
    "df3"
   ]
  },
  {
   "cell_type": "code",
   "execution_count": null,
   "id": "c23cdba0",
   "metadata": {},
   "outputs": [],
   "source": [
    "df8 = df3.drop(index=[\"Bitcoin\",\"Wrapped Bitcoin\"])\n",
    "df8"
   ]
  },
  {
   "cell_type": "code",
   "execution_count": null,
   "id": "ef11dae8",
   "metadata": {},
   "outputs": [],
   "source": [
    "df9 =df8.stack()\n",
    "df9"
   ]
  },
  {
   "cell_type": "code",
   "execution_count": 55,
   "id": "c4ed61a6",
   "metadata": {},
   "outputs": [],
   "source": [
    "df10 = df9.to_frame(name = 'values')"
   ]
  },
  {
   "cell_type": "code",
   "execution_count": null,
   "id": "763dda50",
   "metadata": {},
   "outputs": [],
   "source": [
    "Index = pd.Index(range(90))\n",
    "\n",
    "df11 = df10.reset_index()\n",
    "df11"
   ]
  },
  {
   "cell_type": "code",
   "execution_count": null,
   "id": "438dd095",
   "metadata": {},
   "outputs": [],
   "source": [
    "df11 = df11.rename(columns={'level_1':'percent_change'})\n",
    "df11"
   ]
  },
  {
   "cell_type": "code",
   "execution_count": null,
   "id": "eee37374",
   "metadata": {},
   "outputs": [],
   "source": [
    "sns.catplot(x='percent_change', y='values',hue='name',data=df11,kind='point')"
   ]
  },
  {
   "cell_type": "code",
   "execution_count": null,
   "id": "e56f1938",
   "metadata": {},
   "outputs": [],
   "source": [
    "df12 = df[['name','current_price','timestamp']]\n",
    "df12 = df12.query(\"name == 'Bitcoin'\")\n",
    "df12"
   ]
  },
  {
   "cell_type": "code",
   "execution_count": null,
   "id": "91044fd5",
   "metadata": {},
   "outputs": [],
   "source": [
    "sns.lineplot(x='timestamp',y='current_price',data= df12)"
   ]
  }
 ],
 "metadata": {
  "kernelspec": {
   "display_name": "base",
   "language": "python",
   "name": "python3"
  },
  "language_info": {
   "codemirror_mode": {
    "name": "ipython",
    "version": 3
   },
   "file_extension": ".py",
   "mimetype": "text/x-python",
   "name": "python",
   "nbconvert_exporter": "python",
   "pygments_lexer": "ipython3",
   "version": "3.9.12"
  }
 },
 "nbformat": 4,
 "nbformat_minor": 5
}
